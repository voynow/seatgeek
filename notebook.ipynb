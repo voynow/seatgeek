{
 "cells": [
  {
   "cell_type": "code",
   "execution_count": 9,
   "metadata": {},
   "outputs": [
    {
     "name": "stderr",
     "output_type": "stream",
     "text": [
      "C:\\Users\\voyno\\AppData\\Local\\Temp\\ipykernel_4880\\393472434.py:4: MatplotlibDeprecationWarning: The seaborn styles shipped by Matplotlib are deprecated since 3.6, as they no longer correspond to the styles shipped by seaborn. However, they will remain available as 'seaborn-v0_8-<style>'. Alternatively, directly use the seaborn API instead.\n",
      "  plt.style.use('seaborn')\n"
     ]
    }
   ],
   "source": [
    "import json\n",
    "import matplotlib.pyplot as plt\n",
    "plt.style.use('seaborn')\n",
    "import pandas as pd\n",
    "import requests\n",
    "import time"
   ]
  },
  {
   "cell_type": "code",
   "execution_count": 10,
   "metadata": {},
   "outputs": [],
   "source": [
    "data = json.load(open('test.json', 'r'))"
   ]
  },
  {
   "cell_type": "code",
   "execution_count": 11,
   "metadata": {},
   "outputs": [],
   "source": [
    "dropcols = ['id', 'type', 'taxonomies', 'datetime_utc', 'venue', 'datetime_tbd', 'performers', 'time_tbd', 'popularity', 'score', 'announce_date', 'created_at', 'access_method', 'description', 'status', 'event_promotion', 'announcements', 'conditional', 'date_tbd', 'title', 'themes', 'domain_information', 'links', 'enddatetime_utc', 'is_open', 'visible_until_utc']\n",
    "df = pd.DataFrame(data)\n",
    "df.drop(dropcols, axis=1, inplace=True)"
   ]
  },
  {
   "cell_type": "code",
   "execution_count": 12,
   "metadata": {},
   "outputs": [],
   "source": [
    "\n",
    "from selenium import webdriver\n",
    "from webdriver_manager.chrome import ChromeDriverManager\n",
    "from selenium.webdriver.common.by import By\n",
    "from selenium.webdriver.common.keys import Keys\n",
    "from selenium.common.exceptions import WebDriverException\n",
    "from selenium.webdriver.chrome.options import Options\n",
    "\n",
    "\n",
    "options = Options()\n",
    "# options.add_argument('--headless')\n",
    "\n",
    "\n",
    "def create_driver(link=None):\n",
    "    \"\"\"\n",
    "    Create chrome driver, get link if available\n",
    "    \"\"\"\n",
    "    driver = webdriver.Chrome(ChromeDriverManager().install(), chrome_options=options)\n",
    "    if link:\n",
    "        driver.get(link)\n",
    "\n",
    "    return driver"
   ]
  },
  {
   "cell_type": "code",
   "execution_count": 38,
   "metadata": {},
   "outputs": [
    {
     "name": "stderr",
     "output_type": "stream",
     "text": [
      "C:\\Users\\voyno\\AppData\\Local\\Temp\\ipykernel_4880\\3960223094.py:17: DeprecationWarning: executable_path has been deprecated, please pass in a Service object\n",
      "  driver = webdriver.Chrome(ChromeDriverManager().install(), chrome_options=options)\n",
      "C:\\Users\\voyno\\AppData\\Local\\Temp\\ipykernel_4880\\3960223094.py:17: DeprecationWarning: use options instead of chrome_options\n",
      "  driver = webdriver.Chrome(ChromeDriverManager().install(), chrome_options=options)\n"
     ]
    }
   ],
   "source": [
    "driver = create_driver(df['url'][1])\n",
    "driver.maximize_window()\n",
    "driver.execute_script(\"document.body.style.zoom='5%'\")\n",
    "\n",
    "text = driver.find_element(By.ID, '__next').text\n",
    "\n",
    "driver.quit()"
   ]
  },
  {
   "cell_type": "code",
   "execution_count": 42,
   "metadata": {},
   "outputs": [],
   "source": [
    "search_token = 'Sorted by Deal Score'\n",
    "text_split = text.split(\"\\n\")\n",
    "\n",
    "found_token = False\n",
    "while not found_token:\n",
    "    if text_split[0] == search_token:\n",
    "        found_token = True\n",
    "    text_split = text_split[1:]"
   ]
  },
  {
   "cell_type": "code",
   "execution_count": 48,
   "metadata": {},
   "outputs": [],
   "source": [
    "mod_len = 4\n",
    "data_collection = [[] for _ in range(mod_len)]\n",
    "\n",
    "for i, item in enumerate(text_split):\n",
    "    data_collection[i % mod_len].append(item)"
   ]
  },
  {
   "cell_type": "code",
   "execution_count": 53,
   "metadata": {},
   "outputs": [
    {
     "data": {
      "text/html": [
       "<div>\n",
       "<style scoped>\n",
       "    .dataframe tbody tr th:only-of-type {\n",
       "        vertical-align: middle;\n",
       "    }\n",
       "\n",
       "    .dataframe tbody tr th {\n",
       "        vertical-align: top;\n",
       "    }\n",
       "\n",
       "    .dataframe thead th {\n",
       "        text-align: right;\n",
       "    }\n",
       "</style>\n",
       "<table border=\"1\" class=\"dataframe\">\n",
       "  <thead>\n",
       "    <tr style=\"text-align: right;\">\n",
       "      <th></th>\n",
       "      <th>0</th>\n",
       "      <th>1</th>\n",
       "      <th>2</th>\n",
       "      <th>3</th>\n",
       "    </tr>\n",
       "  </thead>\n",
       "  <tbody>\n",
       "    <tr>\n",
       "      <th>0</th>\n",
       "      <td>$104 each</td>\n",
       "      <td>9.9</td>\n",
       "      <td>Amazing Deal</td>\n",
       "      <td>Section 107, Row 15</td>\n",
       "    </tr>\n",
       "    <tr>\n",
       "      <th>1</th>\n",
       "      <td>$73 each</td>\n",
       "      <td>9.9</td>\n",
       "      <td>Amazing Deal</td>\n",
       "      <td>Section 222, Row 4</td>\n",
       "    </tr>\n",
       "    <tr>\n",
       "      <th>2</th>\n",
       "      <td>$150 each</td>\n",
       "      <td>9.7</td>\n",
       "      <td>Amazing Deal</td>\n",
       "      <td>Section 107, Row 7</td>\n",
       "    </tr>\n",
       "    <tr>\n",
       "      <th>3</th>\n",
       "      <td>$119 each</td>\n",
       "      <td>9.7</td>\n",
       "      <td>Amazing Deal</td>\n",
       "      <td>Section 118, Row 13</td>\n",
       "    </tr>\n",
       "    <tr>\n",
       "      <th>4</th>\n",
       "      <td>$57 each</td>\n",
       "      <td>9.7</td>\n",
       "      <td>Amazing Deal</td>\n",
       "      <td>Section 205, Row 11</td>\n",
       "    </tr>\n",
       "    <tr>\n",
       "      <th>...</th>\n",
       "      <td>...</td>\n",
       "      <td>...</td>\n",
       "      <td>...</td>\n",
       "      <td>...</td>\n",
       "    </tr>\n",
       "    <tr>\n",
       "      <th>64</th>\n",
       "      <td>$298 each</td>\n",
       "      <td>9.3</td>\n",
       "      <td>Amazing Deal</td>\n",
       "      <td>Section 115, Row 4</td>\n",
       "    </tr>\n",
       "    <tr>\n",
       "      <th>65</th>\n",
       "      <td>$255 each</td>\n",
       "      <td>9.3</td>\n",
       "      <td>Amazing Deal</td>\n",
       "      <td>Section 111, Row 14</td>\n",
       "    </tr>\n",
       "    <tr>\n",
       "      <th>66</th>\n",
       "      <td>$307 each</td>\n",
       "      <td>9.3</td>\n",
       "      <td>Amazing Deal</td>\n",
       "      <td>Section 115, Row 3</td>\n",
       "    </tr>\n",
       "    <tr>\n",
       "      <th>67</th>\n",
       "      <td>$218 each</td>\n",
       "      <td>9.3</td>\n",
       "      <td>Amazing Deal</td>\n",
       "      <td>Section 122, Row 12</td>\n",
       "    </tr>\n",
       "    <tr>\n",
       "      <th>68</th>\n",
       "      <td>Search as I move the map</td>\n",
       "      <td>None</td>\n",
       "      <td>None</td>\n",
       "      <td>None</td>\n",
       "    </tr>\n",
       "  </tbody>\n",
       "</table>\n",
       "<p>69 rows × 4 columns</p>\n",
       "</div>"
      ],
      "text/plain": [
       "                           0     1             2                    3\n",
       "0                  $104 each   9.9  Amazing Deal  Section 107, Row 15\n",
       "1                   $73 each   9.9  Amazing Deal   Section 222, Row 4\n",
       "2                  $150 each   9.7  Amazing Deal   Section 107, Row 7\n",
       "3                  $119 each   9.7  Amazing Deal  Section 118, Row 13\n",
       "4                   $57 each   9.7  Amazing Deal  Section 205, Row 11\n",
       "..                       ...   ...           ...                  ...\n",
       "64                 $298 each   9.3  Amazing Deal   Section 115, Row 4\n",
       "65                 $255 each   9.3  Amazing Deal  Section 111, Row 14\n",
       "66                 $307 each   9.3  Amazing Deal   Section 115, Row 3\n",
       "67                 $218 each   9.3  Amazing Deal  Section 122, Row 12\n",
       "68  Search as I move the map  None          None                 None\n",
       "\n",
       "[69 rows x 4 columns]"
      ]
     },
     "execution_count": 53,
     "metadata": {},
     "output_type": "execute_result"
    }
   ],
   "source": [
    "pd.DataFrame(data_collection).transpose()"
   ]
  },
  {
   "cell_type": "code",
   "execution_count": null,
   "metadata": {},
   "outputs": [],
   "source": []
  }
 ],
 "metadata": {
  "kernelspec": {
   "display_name": "venv",
   "language": "python",
   "name": "python3"
  },
  "language_info": {
   "codemirror_mode": {
    "name": "ipython",
    "version": 3
   },
   "file_extension": ".py",
   "mimetype": "text/x-python",
   "name": "python",
   "nbconvert_exporter": "python",
   "pygments_lexer": "ipython3",
   "version": "3.8.0 (tags/v3.8.0:fa919fd, Oct 14 2019, 19:37:50) [MSC v.1916 64 bit (AMD64)]"
  },
  "orig_nbformat": 4,
  "vscode": {
   "interpreter": {
    "hash": "52967123b572702f61316792845f8bc40b94f798da94169fbebccb7f1a3bf320"
   }
  }
 },
 "nbformat": 4,
 "nbformat_minor": 2
}

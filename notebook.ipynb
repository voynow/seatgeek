{
 "cells": [
  {
   "cell_type": "code",
   "execution_count": 1,
   "metadata": {},
   "outputs": [],
   "source": [
    "import boto3\n",
    "import data_collection\n",
    "import data_storage\n",
    "import json\n",
    "import pandas as pd\n",
    "import matplotlib.pyplot as plt\n",
    "\n",
    "plt.style.use('seaborn-v0_8')\n",
    "\n",
    "bucket = \"seatgeek-tickets\""
   ]
  },
  {
   "cell_type": "code",
   "execution_count": 5,
   "metadata": {},
   "outputs": [
    {
     "name": "stdout",
     "output_type": "stream",
     "text": [
      "(1/17) https://seatgeek.com/nets-at-76ers-tickets/1-25-2023-philadelphia-pennsylvania-wells-fargo-center/nba/5775973\n",
      "game=Brooklyn-Nets data-size=245\n",
      "(2/17) https://seatgeek.com/nuggets-at-76ers-tickets/1-28-2023-philadelphia-pennsylvania-wells-fargo-center/nba/5775975\n",
      "game=Denver-Nuggets data-size=245\n",
      "(3/17) https://seatgeek.com/magic-at-76ers-tickets/1-30-2023-philadelphia-pennsylvania-wells-fargo-center/nba/5775977\n",
      "game=Orlando-Magic data-size=240\n",
      "(4/17) https://seatgeek.com/magic-at-76ers-tickets/2-1-2023-philadelphia-pennsylvania-wells-fargo-center/nba/5775979\n",
      "game=Orlando-Magic data-size=245\n",
      "(5/17) https://seatgeek.com/knicks-at-76ers-tickets/2-10-2023-philadelphia-pennsylvania-wells-fargo-center/nba/5775981\n",
      "game=New-York-Knicks data-size=245\n",
      "(6/17) https://seatgeek.com/rockets-at-76ers-tickets/2-13-2023-philadelphia-pennsylvania-wells-fargo-center/nba/5775983\n",
      "game=Houston-Rockets data-size=245\n",
      "(7/17) https://seatgeek.com/cavaliers-at-76ers-tickets/2-15-2023-philadelphia-pennsylvania-wells-fargo-center/nba/5775985\n",
      "game=Cleveland-Cavaliers data-size=245\n",
      "(8/17) https://seatgeek.com/grizzlies-at-76ers-tickets/2-23-2023-philadelphia-pennsylvania-wells-fargo-center/nba/5775987\n",
      "game=Memphis-Grizzlies data-size=245\n",
      "(9/17) https://seatgeek.com/celtics-at-76ers-tickets/2-25-2023-philadelphia-pennsylvania-wells-fargo-center/nba/5775989\n",
      "game=Boston-Celtics data-size=245\n",
      "(10/17) https://seatgeek.com/heat-at-76ers-tickets/2-27-2023-philadelphia-pennsylvania-wells-fargo-center/nba/5775991\n",
      "game=Miami-Heat data-size=240\n",
      "(11/17) https://seatgeek.com/trail-blazers-at-76ers-tickets/3-10-2023-philadelphia-pennsylvania-wells-fargo-center/nba/5775993\n",
      "game=Portland-Trail-Blazers data-size=245\n",
      "(12/17) https://seatgeek.com/wizards-at-76ers-tickets/3-12-2023-philadelphia-pennsylvania-wells-fargo-center/nba/5775995\n",
      "game=Washington-Wizards data-size=245\n",
      "(13/17) https://seatgeek.com/bulls-at-76ers-tickets/3-20-2023-philadelphia-pennsylvania-wells-fargo-center/nba/5775997\n",
      "game=Chicago-Bulls data-size=245\n",
      "(14/17) https://seatgeek.com/mavericks-at-76ers-tickets/3-29-2023-philadelphia-pennsylvania-wells-fargo-center/nba/5775999\n",
      "game=Dallas-Mavericks data-size=240\n",
      "(15/17) https://seatgeek.com/raptors-at-76ers-tickets/3-31-2023-philadelphia-pennsylvania-wells-fargo-center/nba/5776001\n",
      "game=Toronto-Raptors data-size=245\n",
      "(16/17) https://seatgeek.com/celtics-at-76ers-tickets/4-4-2023-philadelphia-pennsylvania-wells-fargo-center/nba/5776003\n",
      "game=Boston-Celtics data-size=245\n",
      "(17/17) https://seatgeek.com/heat-at-76ers-tickets/4-6-2023-philadelphia-pennsylvania-wells-fargo-center/nba/5776005\n",
      "game=Miami-Heat data-size=240\n"
     ]
    }
   ],
   "source": [
    "success = False\n",
    "while not success:\n",
    "    try:\n",
    "        data = data_collection.etl()\n",
    "        success = True\n",
    "    except Exception as e:\n",
    "        print(f\"Exiting data_collcetion ETL with the following exception: \\n{e}\")\n",
    "resp = data_storage.put_object(data, bucket)"
   ]
  },
  {
   "cell_type": "code",
   "execution_count": null,
   "metadata": {},
   "outputs": [],
   "source": [
    "# master_df = pd.concat(dfs)\n",
    "# master_df['section'] = master_df['section'].apply(lambda x: x.split(',')[0])\n",
    "\n",
    "# section_size = master_df.groupby('section').size()\n",
    "# valid_sections = section_size.index.values[section_size > 3]\n",
    "# valid_sections"
   ]
  },
  {
   "cell_type": "code",
   "execution_count": null,
   "metadata": {},
   "outputs": [],
   "source": []
  }
 ],
 "metadata": {
  "kernelspec": {
   "display_name": "venv",
   "language": "python",
   "name": "python3"
  },
  "language_info": {
   "codemirror_mode": {
    "name": "ipython",
    "version": 3
   },
   "file_extension": ".py",
   "mimetype": "text/x-python",
   "name": "python",
   "nbconvert_exporter": "python",
   "pygments_lexer": "ipython3",
   "version": "3.8.0"
  },
  "orig_nbformat": 4,
  "vscode": {
   "interpreter": {
    "hash": "52967123b572702f61316792845f8bc40b94f798da94169fbebccb7f1a3bf320"
   }
  }
 },
 "nbformat": 4,
 "nbformat_minor": 2
}

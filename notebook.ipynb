{
 "cells": [
  {
   "cell_type": "code",
   "execution_count": 2,
   "metadata": {},
   "outputs": [
    {
     "name": "stderr",
     "output_type": "stream",
     "text": [
      "C:\\Users\\voyno\\AppData\\Local\\Temp\\ipykernel_6912\\1969594201.py:9: MatplotlibDeprecationWarning: The seaborn styles shipped by Matplotlib are deprecated since 3.6, as they no longer correspond to the styles shipped by seaborn. However, they will remain available as 'seaborn-v0_8-<style>'. Alternatively, directly use the seaborn API instead.\n",
      "  plt.style.use('seaborn')\n"
     ]
    }
   ],
   "source": [
    "import json\n",
    "import pandas as pd\n",
    "import requests\n",
    "import time\n",
    "\n",
    "import api_utils\n",
    "\n",
    "import matplotlib.pyplot as plt\n",
    "plt.style.use('seaborn')"
   ]
  },
  {
   "cell_type": "code",
   "execution_count": 3,
   "metadata": {},
   "outputs": [],
   "source": [
    "\n",
    "from selenium import webdriver\n",
    "from webdriver_manager.chrome import ChromeDriverManager\n",
    "from selenium.webdriver.common.by import By\n",
    "from selenium.webdriver.common.keys import Keys\n",
    "from selenium.common.exceptions import WebDriverException\n",
    "from selenium.webdriver.chrome.options import Options\n",
    "\n",
    "\n",
    "options = Options()\n",
    "options.add_argument('--headless')\n",
    "\n",
    "\n",
    "def create_driver(link=None):\n",
    "    \"\"\"\n",
    "    Create chrome driver, get link if available\n",
    "    \"\"\"\n",
    "    driver = webdriver.Chrome(ChromeDriverManager().install(), chrome_options=options)\n",
    "    if link:\n",
    "        driver.get(link)\n",
    "\n",
    "    return driver"
   ]
  },
  {
   "cell_type": "code",
   "execution_count": 73,
   "metadata": {},
   "outputs": [
    {
     "name": "stderr",
     "output_type": "stream",
     "text": [
      "C:\\Users\\voyno\\AppData\\Local\\Temp\\ipykernel_6912\\2241503389.py:17: DeprecationWarning: executable_path has been deprecated, please pass in a Service object\n",
      "  driver = webdriver.Chrome(ChromeDriverManager().install(), chrome_options=options)\n",
      "C:\\Users\\voyno\\AppData\\Local\\Temp\\ipykernel_6912\\2241503389.py:17: DeprecationWarning: use options instead of chrome_options\n",
      "  driver = webdriver.Chrome(ChromeDriverManager().install(), chrome_options=options)\n"
     ]
    },
    {
     "name": "stdout",
     "output_type": "stream",
     "text": [
      "https://seatgeek.com/nets-at-76ers-tickets/1-25-2023-philadelphia-pennsylvania-wells-fargo-center/nba/5775973\n",
      "https://seatgeek.com/nuggets-at-76ers-tickets/1-28-2023-philadelphia-pennsylvania-wells-fargo-center/nba/5775975\n",
      "https://seatgeek.com/magic-at-76ers-tickets/1-30-2023-philadelphia-pennsylvania-wells-fargo-center/nba/5775977\n",
      "https://seatgeek.com/magic-at-76ers-tickets/2-1-2023-philadelphia-pennsylvania-wells-fargo-center/nba/5775979\n",
      "https://seatgeek.com/knicks-at-76ers-tickets/2-10-2023-philadelphia-pennsylvania-wells-fargo-center/nba/5775981\n",
      "https://seatgeek.com/rockets-at-76ers-tickets/2-13-2023-philadelphia-pennsylvania-wells-fargo-center/nba/5775983\n",
      "https://seatgeek.com/cavaliers-at-76ers-tickets/2-15-2023-philadelphia-pennsylvania-wells-fargo-center/nba/5775985\n",
      "https://seatgeek.com/grizzlies-at-76ers-tickets/2-23-2023-philadelphia-pennsylvania-wells-fargo-center/nba/5775987\n",
      "https://seatgeek.com/celtics-at-76ers-tickets/2-25-2023-philadelphia-pennsylvania-wells-fargo-center/nba/5775989\n",
      "https://seatgeek.com/heat-at-76ers-tickets/2-27-2023-philadelphia-pennsylvania-wells-fargo-center/nba/5775991\n",
      "https://seatgeek.com/trail-blazers-at-76ers-tickets/3-10-2023-philadelphia-pennsylvania-wells-fargo-center/nba/5775993\n",
      "https://seatgeek.com/wizards-at-76ers-tickets/3-12-2023-philadelphia-pennsylvania-wells-fargo-center/nba/5775995\n",
      "https://seatgeek.com/bulls-at-76ers-tickets/3-20-2023-philadelphia-pennsylvania-wells-fargo-center/nba/5775997\n",
      "https://seatgeek.com/mavericks-at-76ers-tickets/3-29-2023-philadelphia-pennsylvania-wells-fargo-center/nba/5775999\n",
      "https://seatgeek.com/raptors-at-76ers-tickets/3-31-2023-philadelphia-pennsylvania-wells-fargo-center/nba/5776001\n",
      "https://seatgeek.com/celtics-at-76ers-tickets/4-4-2023-philadelphia-pennsylvania-wells-fargo-center/nba/5776003\n",
      "https://seatgeek.com/heat-at-76ers-tickets/4-6-2023-philadelphia-pennsylvania-wells-fargo-center/nba/5776005\n"
     ]
    }
   ],
   "source": [
    "data = []\n",
    "\n",
    "resp = api_utils.get_76ers_games()\n",
    "urls = [event['url'] for event in resp['events']]\n",
    "\n",
    "driver = create_driver()\n",
    "for url in urls:\n",
    "    print(url)\n",
    "\n",
    "    driver.get(url)\n",
    "    driver.maximize_window()\n",
    "    driver.execute_script(\"document.body.style.zoom='20%'\")\n",
    "    time.sleep(1)\n",
    "\n",
    "    text = driver.find_element(By.ID, '__next').text\n",
    "    data.append(text.split(\"\\n\"))\n",
    "\n",
    "driver.quit()\n"
   ]
  },
  {
   "cell_type": "code",
   "execution_count": 78,
   "metadata": {},
   "outputs": [],
   "source": [
    "clean_data = {}\n",
    "title_string = \" at Philadelphia 76ers\"\n",
    "for dataset in data:\n",
    "\n",
    "    if \"Aisle Seats\" in dataset:\n",
    "        dataset.remove(\"Aisle Seats\")\n",
    "\n",
    "    if \"Private Restrooms\" in dataset:\n",
    "        dataset.remove(\"Private Restrooms\")\n",
    "    \n",
    "    if \"Includes access to a buffet, Includes Parking\" in dataset:\n",
    "        dataset.remove(\"Includes access to a buffet, Includes Parking\")\n",
    "        \n",
    "    for row in dataset:\n",
    "         if title_string in row:\n",
    "            title = row.replace(title_string, \"\")\n",
    "            break\n",
    "\n",
    "    while title in clean_data:\n",
    "        title += \"(1)\"\n",
    "    clean_data[title] = dataset\n",
    "    \n",
    "\n",
    "tokens = [\"Sorted\", \"Returnable\"]\n",
    "for k, v in clean_data.items():\n",
    "\n",
    "    idxs = []\n",
    "    for i, item in enumerate(v):\n",
    "        for token in tokens:\n",
    "            if token in item:\n",
    "                idxs.append(i)\n",
    "    maxidx = max(idxs) + 1\n",
    "\n",
    "    if \"$\" in \"\".join(v[:maxidx]):\n",
    "        raise ValueError(\"(Validation Warning) Attempting to remove valid data\")\n",
    "    clean_data[k] = v[maxidx:]"
   ]
  },
  {
   "cell_type": "code",
   "execution_count": 81,
   "metadata": {},
   "outputs": [
    {
     "name": "stdout",
     "output_type": "stream",
     "text": [
      "Failed on Boston Celtics\n",
      "Failed on Miami Heat\n"
     ]
    }
   ],
   "source": [
    "cols = [\"price\", \"score\", \"deal\", \"num_tickets\", \"section\"]\n",
    "\n",
    "dfs = {}\n",
    "for k, v in clean_data.items():\n",
    "    data_collection = {col: [] for col in cols}\n",
    "    for i, item in enumerate(v):\n",
    "        col = cols[i % 5]\n",
    "        data_collection[col].append(item)\n",
    "    \n",
    "    try:\n",
    "        dfs[k] = pd.DataFrame(data_collection)\n",
    "    except ValueError:\n",
    "        print(f\"Failed on {k}\")\n"
   ]
  },
  {
   "cell_type": "code",
   "execution_count": 84,
   "metadata": {},
   "outputs": [
    {
     "name": "stdout",
     "output_type": "stream",
     "text": [
      "$2,881 each\n",
      "Includes access to a buffet, Includes Parking\n",
      "Section 123, Row 5\n",
      "Section 214, Row 2\n",
      "Section 113, Row 17\n",
      "Section 102, Row BB\n",
      "Section 211, Row 2\n",
      "Section 112, Row 13\n",
      "Section 111, Row 13\n",
      "Section 113, Row 2\n",
      "Section 119, Row 8\n",
      "Section 110, Row 15\n",
      "Section R 106, Row J\n",
      "Section 124, Row 14\n"
     ]
    }
   ],
   "source": [
    "for i, item in enumerate(clean_data[\"Boston Celtics\"]):\n",
    "    if not i % 5:\n",
    "        print(item)"
   ]
  },
  {
   "cell_type": "code",
   "execution_count": null,
   "metadata": {},
   "outputs": [],
   "source": []
  }
 ],
 "metadata": {
  "kernelspec": {
   "display_name": "venv",
   "language": "python",
   "name": "python3"
  },
  "language_info": {
   "codemirror_mode": {
    "name": "ipython",
    "version": 3
   },
   "file_extension": ".py",
   "mimetype": "text/x-python",
   "name": "python",
   "nbconvert_exporter": "python",
   "pygments_lexer": "ipython3",
   "version": "3.8.0"
  },
  "orig_nbformat": 4,
  "vscode": {
   "interpreter": {
    "hash": "52967123b572702f61316792845f8bc40b94f798da94169fbebccb7f1a3bf320"
   }
  }
 },
 "nbformat": 4,
 "nbformat_minor": 2
}

{
 "cells": [
  {
   "cell_type": "code",
   "execution_count": 1,
   "metadata": {},
   "outputs": [],
   "source": [
    "import boto3\n",
    "import data_collection\n",
    "import data_storage\n",
    "import json\n",
    "import pandas as pd\n",
    "import matplotlib.pyplot as plt\n",
    "\n",
    "plt.style.use('seaborn-v0_8')\n",
    "\n",
    "bucket = \"seatgeek-tickets\""
   ]
  },
  {
   "cell_type": "code",
   "execution_count": 2,
   "metadata": {},
   "outputs": [
    {
     "name": "stdout",
     "output_type": "stream",
     "text": [
      "(1/17) https://seatgeek.com/nets-at-76ers-tickets/1-25-2023-philadelphia-pennsylvania-wells-fargo-center/nba/5775973\n",
      "game=Brooklyn-Nets data-size=245\n"
     ]
    },
    {
     "ename": "ValueError",
     "evalue": "too many values to unpack (expected 2)",
     "output_type": "error",
     "traceback": [
      "\u001b[1;31m---------------------------------------------------------------------------\u001b[0m",
      "\u001b[1;31mValueError\u001b[0m                                Traceback (most recent call last)",
      "Cell \u001b[1;32mIn[2], line 1\u001b[0m\n\u001b[1;32m----> 1\u001b[0m data \u001b[39m=\u001b[39m data_collection\u001b[39m.\u001b[39;49metl()\n\u001b[0;32m      2\u001b[0m \u001b[39m# resp = data_storage.put_object(data, bucket)\u001b[39;00m\n",
      "File \u001b[1;32mc:\\Users\\voyno\\Desktop\\code\\repos\\seatgeek\\data_collection.py:121\u001b[0m, in \u001b[0;36metl\u001b[1;34m()\u001b[0m\n\u001b[0;32m    119\u001b[0m     title, clean_data \u001b[39m=\u001b[39m cleanse(raw_data)\n\u001b[0;32m    120\u001b[0m     title \u001b[39m=\u001b[39m validate_title(title, master_data)\n\u001b[1;32m--> 121\u001b[0m     structured_data \u001b[39m=\u001b[39m validate_data(apply_schema(clean_data))\n\u001b[0;32m    122\u001b[0m     master_data[title] \u001b[39m=\u001b[39m structured_data\n\u001b[0;32m    124\u001b[0m driver\u001b[39m.\u001b[39mquit()\n",
      "File \u001b[1;32mc:\\Users\\voyno\\Desktop\\code\\repos\\seatgeek\\data_collection.py:99\u001b[0m, in \u001b[0;36mvalidate_data\u001b[1;34m(data)\u001b[0m\n\u001b[0;32m     96\u001b[0m \u001b[39m\"\"\"\u001b[39;00m\n\u001b[0;32m     97\u001b[0m \u001b[39m\"\"\"\u001b[39;00m\n\u001b[0;32m     98\u001b[0m lens \u001b[39m=\u001b[39m []\n\u001b[1;32m---> 99\u001b[0m \u001b[39mfor\u001b[39;00m _, v \u001b[39min\u001b[39;00m data:\n\u001b[0;32m    100\u001b[0m     lens\u001b[39m.\u001b[39mappend(\u001b[39mlen\u001b[39m(v))\n\u001b[0;32m    101\u001b[0m \u001b[39mfor\u001b[39;00m l \u001b[39min\u001b[39;00m lens:\n",
      "\u001b[1;31mValueError\u001b[0m: too many values to unpack (expected 2)"
     ]
    }
   ],
   "source": [
    "data = data_collection.etl()\n",
    "# resp = data_storage.put_object(data, bucket)\n"
   ]
  },
  {
   "cell_type": "code",
   "execution_count": null,
   "metadata": {},
   "outputs": [],
   "source": [
    "# master_df = pd.concat(dfs)\n",
    "# master_df['section'] = master_df['section'].apply(lambda x: x.split(',')[0])\n",
    "\n",
    "# section_size = master_df.groupby('section').size()\n",
    "# valid_sections = section_size.index.values[section_size > 3]\n",
    "# valid_sections"
   ]
  },
  {
   "cell_type": "code",
   "execution_count": 24,
   "metadata": {},
   "outputs": [
    {
     "data": {
      "text/plain": [
       "'{\"price\":{\"0\":\"$584 each\",\"1\":\"$674 each\",\"2\":\"$426 each\",\"3\":\"$779 each\",\"4\":\"$62 each\",\"5\":\"$494 each\",\"6\":\"$100 each\",\"7\":\"$443 each\",\"8\":\"$494 each\",\"9\":\"$84 each\",\"10\":\"$71 each\",\"11\":\"$88 each\",\"12\":\"$473 each\",\"13\":\"$69 each\",\"14\":\"$76 each\",\"15\":\"$492 each\",\"16\":\"$426 each\",\"17\":\"$345 each\",\"18\":\"$269 each\",\"19\":\"$494 each\",\"20\":\"$390 each\",\"21\":\"$76 each\",\"22\":\"$84 each\",\"23\":\"$82 each\",\"24\":\"$88 each\",\"25\":\"$570 each\",\"26\":\"$86 each\",\"27\":\"$87 each\",\"28\":\"$63 each\",\"29\":\"$84 each\",\"30\":\"$84 each\",\"31\":\"$73 each\",\"32\":\"$91 each\",\"33\":\"$471 each\",\"34\":\"$69 each\",\"35\":\"$494 each\",\"36\":\"$63 each\",\"37\":\"$667 each\",\"38\":\"$73 each\",\"39\":\"$231 each\",\"40\":\"$71 each\",\"41\":\"$167 each\",\"42\":\"$62 each\",\"43\":\"$443 each\",\"44\":\"$72 each\",\"45\":\"$99 each\",\"46\":\"$150 each\",\"47\":\"$68 each\",\"48\":\"$88 each\"},\"score\":{\"0\":\"10.0\",\"1\":\"10.0\",\"2\":\"9.9\",\"3\":\"9.9\",\"4\":\"9.9\",\"5\":\"9.9\",\"6\":\"9.9\",\"7\":\"9.9\",\"8\":\"9.9\",\"9\":\"9.9\",\"10\":\"9.8\",\"11\":\"9.8\",\"12\":\"9.8\",\"13\":\"9.8\",\"14\":\"9.8\",\"15\":\"9.8\",\"16\":\"9.8\",\"17\":\"9.8\",\"18\":\"9.8\",\"19\":\"9.8\",\"20\":\"9.8\",\"21\":\"9.8\",\"22\":\"9.8\",\"23\":\"9.8\",\"24\":\"9.8\",\"25\":\"9.8\",\"26\":\"9.7\",\"27\":\"9.7\",\"28\":\"9.7\",\"29\":\"9.7\",\"30\":\"9.7\",\"31\":\"9.7\",\"32\":\"9.7\",\"33\":\"9.7\",\"34\":\"9.7\",\"35\":\"9.7\",\"36\":\"9.7\",\"37\":\"9.7\",\"38\":\"9.7\",\"39\":\"9.7\",\"40\":\"9.7\",\"41\":\"9.7\",\"42\":\"9.7\",\"43\":\"9.7\",\"44\":\"9.7\",\"45\":\"9.6\",\"46\":\"9.6\",\"47\":\"9.6\",\"48\":\"9.6\"},\"deal\":{\"0\":\"Amazing Deal\",\"1\":\"Amazing Deal\",\"2\":\"Amazing Deal\",\"3\":\"Amazing Deal\",\"4\":\"Amazing Deal\",\"5\":\"Amazing Deal\",\"6\":\"Amazing Deal\",\"7\":\"Amazing Deal\",\"8\":\"Amazing Deal\",\"9\":\"Amazing Deal\",\"10\":\"Amazing Deal\",\"11\":\"Amazing Deal\",\"12\":\"Amazing Deal\",\"13\":\"Amazing Deal\",\"14\":\"Amazing Deal\",\"15\":\"Amazing Deal\",\"16\":\"Amazing Deal\",\"17\":\"Amazing Deal\",\"18\":\"Amazing Deal\",\"19\":\"Amazing Deal\",\"20\":\"Amazing Deal\",\"21\":\"Amazing Deal\",\"22\":\"Amazing Deal\",\"23\":\"Amazing Deal\",\"24\":\"Amazing Deal\",\"25\":\"Amazing Deal\",\"26\":\"Amazing Deal\",\"27\":\"Amazing Deal\",\"28\":\"Amazing Deal\",\"29\":\"Amazing Deal\",\"30\":\"Amazing Deal\",\"31\":\"Amazing Deal\",\"32\":\"Amazing Deal\",\"33\":\"Amazing Deal\",\"34\":\"Amazing Deal\",\"35\":\"Amazing Deal\",\"36\":\"Amazing Deal\",\"37\":\"Amazing Deal\",\"38\":\"Amazing Deal\",\"39\":\"Amazing Deal\",\"40\":\"Amazing Deal\",\"41\":\"Amazing Deal\",\"42\":\"Amazing Deal\",\"43\":\"Amazing Deal\",\"44\":\"Amazing Deal\",\"45\":\"Amazing Deal\",\"46\":\"Amazing Deal\",\"47\":\"Amazing Deal\",\"48\":\"Amazing Deal\"},\"num_tickets\":{\"0\":\" \\\\u00b7 2 tickets\",\"1\":\" \\\\u00b7 2 tickets\",\"2\":\" \\\\u00b7 4 tickets\",\"3\":\" \\\\u00b7 2 tickets\",\"4\":\" \\\\u00b7 2 tickets\",\"5\":\" \\\\u00b7 4 tickets\",\"6\":\" \\\\u00b7 4 tickets\",\"7\":\" \\\\u00b7 1-3 tickets\",\"8\":\" \\\\u00b7 6 tickets\",\"9\":\" \\\\u00b7 2-4 tickets\",\"10\":\" \\\\u00b7 2 tickets\",\"11\":\" \\\\u00b7 2-4 tickets\",\"12\":\" \\\\u00b7 3 tickets\",\"13\":\" \\\\u00b7 3 tickets\",\"14\":\" \\\\u00b7 2 tickets\",\"15\":\" \\\\u00b7 4 tickets\",\"16\":\" \\\\u00b7 2 tickets\",\"17\":\" \\\\u00b7 4 tickets\",\"18\":\" \\\\u00b7 1-5 tickets\",\"19\":\" \\\\u00b7 3 tickets\",\"20\":\" \\\\u00b7 1-6 tickets\",\"21\":\" \\\\u00b7 2 tickets\",\"22\":\" \\\\u00b7 2-4 tickets\",\"23\":\" \\\\u00b7 2-4 tickets\",\"24\":\" \\\\u00b7 2 tickets\",\"25\":\" \\\\u00b7 4 tickets\",\"26\":\" \\\\u00b7 1-4 tickets\",\"27\":\" \\\\u00b7 2 tickets\",\"28\":\" \\\\u00b7 2 tickets\",\"29\":\" \\\\u00b7 2-4 tickets\",\"30\":\" \\\\u00b7 2-4 tickets\",\"31\":\" \\\\u00b7 1-3 tickets\",\"32\":\" \\\\u00b7 2 tickets\",\"33\":\" \\\\u00b7 2 tickets\",\"34\":\" \\\\u00b7 2-4 tickets\",\"35\":\" \\\\u00b7 1-7 tickets\",\"36\":\" \\\\u00b7 2 tickets\",\"37\":\" \\\\u00b7 2 tickets\",\"38\":\" \\\\u00b7 2 tickets\",\"39\":\" \\\\u00b7 4 tickets\",\"40\":\" \\\\u00b7 3 tickets\",\"41\":\" \\\\u00b7 2 tickets\",\"42\":\" \\\\u00b7 2-4 tickets\",\"43\":\" \\\\u00b7 4 tickets\",\"44\":\" \\\\u00b7 2 tickets\",\"45\":\" \\\\u00b7 1-4 tickets\",\"46\":\" \\\\u00b7 2 tickets\",\"47\":\" \\\\u00b7 2 tickets\",\"48\":\" \\\\u00b7 2-4 tickets\"},\"section\":{\"0\":\"Section 113, Row 1\",\"1\":\"Section 101, Row BB\",\"2\":\"Section 101, Row 13\",\"3\":\"Section 101, Row BB\",\"4\":\"Section 209 A, Row 11\",\"5\":\"Section 124, Row 1\",\"6\":\"Section 201, Row 7\",\"7\":\"Section 112, Row 3\",\"8\":\"Section 124, Row 2\",\"9\":\"Section 211, Row 9\",\"10\":\"Section 220, Row 1\",\"11\":\"Section 211, Row 9\",\"12\":\"Section 112, Row 3\",\"13\":\"Section 222, Row 12\",\"14\":\"Section 208, Row 1\",\"15\":\"Section 101, Row 13\",\"16\":\"Section 114, Row 3\",\"17\":\"Section 124, Row 14\",\"18\":\"Section 123, Row 5\",\"19\":\"Section 102, Row 3\",\"20\":\"Section 101, Row 19\",\"21\":\"Section 222, Row 9\",\"22\":\"Section 211, Row 11\",\"23\":\"Section 211, Row 12\",\"24\":\"Section 215, Row 7\",\"25\":\"Section 124, Row 1\",\"26\":\"Section 211, Row 11\",\"27\":\"Section 221 A, Row 2\",\"28\":\"Section 208, Row 11\",\"29\":\"Section 211, Row 12\",\"30\":\"Section 215, Row 9\",\"31\":\"Section 221 A, Row 10\",\"32\":\"Section 212, Row 12\",\"33\":\"Section 114, Row 2\",\"34\":\"Section 209, Row 11\",\"35\":\"Section 114, Row 1\",\"36\":\"Section 208, Row 12\",\"37\":\"Section 101, Row 8\",\"38\":\"Section 222, Row 13\",\"39\":\"Section 123, Row 16\",\"40\":\"Section 209, Row 11\",\"41\":\"Section 104, Row 17\",\"42\":\"Section 206, Row 11\",\"43\":\"Section 113, Row 18\",\"44\":\"Section 221, Row 9\",\"45\":\"Section 212, Row 11\",\"46\":\"Section 120, Row 13\",\"47\":\"Section 209, Row 13\",\"48\":\"Section 211, Row 12\"}}'"
      ]
     },
     "execution_count": 24,
     "metadata": {},
     "output_type": "execute_result"
    }
   ],
   "source": [
    "test['Boston Celtics(1)']"
   ]
  },
  {
   "cell_type": "code",
   "execution_count": null,
   "metadata": {},
   "outputs": [],
   "source": []
  }
 ],
 "metadata": {
  "kernelspec": {
   "display_name": "venv",
   "language": "python",
   "name": "python3"
  },
  "language_info": {
   "codemirror_mode": {
    "name": "ipython",
    "version": 3
   },
   "file_extension": ".py",
   "mimetype": "text/x-python",
   "name": "python",
   "nbconvert_exporter": "python",
   "pygments_lexer": "ipython3",
   "version": "3.8.0"
  },
  "orig_nbformat": 4,
  "vscode": {
   "interpreter": {
    "hash": "52967123b572702f61316792845f8bc40b94f798da94169fbebccb7f1a3bf320"
   }
  }
 },
 "nbformat": 4,
 "nbformat_minor": 2
}

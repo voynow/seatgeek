{
 "cells": [
  {
   "cell_type": "code",
   "execution_count": 7,
   "metadata": {},
   "outputs": [],
   "source": [
    "import boto3\n",
    "import json\n",
    "import pandas as pd\n",
    "import time\n"
   ]
  },
  {
   "cell_type": "code",
   "execution_count": 68,
   "metadata": {},
   "outputs": [],
   "source": [
    "preprocessing = [\n",
    "    {\n",
    "        \"update_col\": \"price\", \n",
    "        \"from_col\": \"price\",\n",
    "        \"fn\": lambda x: int(x.split(\" \")[0].replace(\"$\", \"\").replace(\",\", \"\")),\n",
    "    },\n",
    "    {\n",
    "        \"update_col\": \"score\", \n",
    "        \"from_col\": \"score\",\n",
    "        \"fn\": lambda x: float(x),\n",
    "    },\n",
    "    {\n",
    "        \"update_col\": \"num_tickets\", \n",
    "        \"from_col\": \"num_tickets\",\n",
    "        \"fn\": lambda x: x.split(\" \")[2],\n",
    "    },\n",
    "    {\n",
    "        \"update_col\": \"section\", \n",
    "        \"from_col\": \"section\",\n",
    "        \"fn\": lambda x: x.replace(\"Section \", \"\").replace(\"Row \", \"\") + \", NA\",\n",
    "    },\n",
    "    {\n",
    "        \"update_col\": \"row\", \n",
    "        \"from_col\": \"section\",\n",
    "        \"fn\": lambda x: x.split(\", \")[1],\n",
    "    },\n",
    "    {\n",
    "        \"update_col\": \"section\", \n",
    "        \"from_col\": \"section\",\n",
    "        \"fn\": lambda x: x.split(\", \")[0],\n",
    "    },\n",
    "]"
   ]
  },
  {
   "cell_type": "code",
   "execution_count": 5,
   "metadata": {},
   "outputs": [],
   "source": [
    "bucket = \"seatgeek-tickets\"\n",
    "table = \"2023-01-16-09-26-43-941432.json\"\n",
    "s3 = boto3.resource('s3')\n",
    "\n",
    "obj = s3.Object(bucket, table)\n",
    "data = json.loads(obj.get()['Body'].read())"
   ]
  },
  {
   "cell_type": "code",
   "execution_count": 69,
   "metadata": {},
   "outputs": [
    {
     "name": "stdout",
     "output_type": "stream",
     "text": [
      "{'update_col': 'price', 'from_col': 'price', 'fn': <function <lambda> at 0x000001EF288F39D0>}\n",
      "{'update_col': 'score', 'from_col': 'score', 'fn': <function <lambda> at 0x000001EF288F3700>}\n",
      "{'update_col': 'num_tickets', 'from_col': 'num_tickets', 'fn': <function <lambda> at 0x000001EF289AF820>}\n",
      "{'update_col': 'section', 'from_col': 'section', 'fn': <function <lambda> at 0x000001EF289AF940>}\n",
      "{'update_col': 'row', 'from_col': 'section', 'fn': <function <lambda> at 0x000001EF289AF8B0>}\n",
      "{'update_col': 'section', 'from_col': 'section', 'fn': <function <lambda> at 0x000001EF289AF9D0>}\n"
     ]
    }
   ],
   "source": [
    "dfs = []\n",
    "for k, v in data.items():\n",
    "    df = pd.DataFrame(v)\n",
    "    df['game'] = k\n",
    "    dfs.append(df)\n",
    "dfs = pd.concat(dfs)\n",
    "\n",
    "for p in preprocessing:\n",
    "    print(p)\n",
    "    update_col = p['update_col']\n",
    "    from_col = p['from_col']\n",
    "    function = p['fn']\n",
    "    dfs[update_col] = dfs[from_col].apply(function)"
   ]
  },
  {
   "cell_type": "code",
   "execution_count": null,
   "metadata": {},
   "outputs": [],
   "source": []
  }
 ],
 "metadata": {
  "kernelspec": {
   "display_name": "venv",
   "language": "python",
   "name": "python3"
  },
  "language_info": {
   "codemirror_mode": {
    "name": "ipython",
    "version": 3
   },
   "file_extension": ".py",
   "mimetype": "text/x-python",
   "name": "python",
   "nbconvert_exporter": "python",
   "pygments_lexer": "ipython3",
   "version": "3.8.0"
  },
  "orig_nbformat": 4,
  "vscode": {
   "interpreter": {
    "hash": "52967123b572702f61316792845f8bc40b94f798da94169fbebccb7f1a3bf320"
   }
  }
 },
 "nbformat": 4,
 "nbformat_minor": 2
}

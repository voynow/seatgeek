{
 "cells": [
  {
   "cell_type": "code",
   "execution_count": 1,
   "metadata": {},
   "outputs": [],
   "source": [
    "import pandas as pd\n",
    "import matplotlib.pyplot as plt\n",
    "plt.style.use('seaborn-v0_8')\n",
    "\n",
    "import data_collection"
   ]
  },
  {
   "cell_type": "code",
   "execution_count": 2,
   "metadata": {},
   "outputs": [
    {
     "name": "stdout",
     "output_type": "stream",
     "text": [
      "(0/17) https://seatgeek.com/nets-at-76ers-tickets/1-25-2023-philadelphia-pennsylvania-wells-fargo-center/nba/5775973\n",
      "(1/17) https://seatgeek.com/nuggets-at-76ers-tickets/1-28-2023-philadelphia-pennsylvania-wells-fargo-center/nba/5775975\n",
      "(2/17) https://seatgeek.com/magic-at-76ers-tickets/1-30-2023-philadelphia-pennsylvania-wells-fargo-center/nba/5775977\n",
      "(3/17) https://seatgeek.com/magic-at-76ers-tickets/2-1-2023-philadelphia-pennsylvania-wells-fargo-center/nba/5775979\n",
      "(4/17) https://seatgeek.com/knicks-at-76ers-tickets/2-10-2023-philadelphia-pennsylvania-wells-fargo-center/nba/5775981\n",
      "(5/17) https://seatgeek.com/rockets-at-76ers-tickets/2-13-2023-philadelphia-pennsylvania-wells-fargo-center/nba/5775983\n",
      "(6/17) https://seatgeek.com/cavaliers-at-76ers-tickets/2-15-2023-philadelphia-pennsylvania-wells-fargo-center/nba/5775985\n",
      "(7/17) https://seatgeek.com/grizzlies-at-76ers-tickets/2-23-2023-philadelphia-pennsylvania-wells-fargo-center/nba/5775987\n",
      "(8/17) https://seatgeek.com/celtics-at-76ers-tickets/2-25-2023-philadelphia-pennsylvania-wells-fargo-center/nba/5775989\n",
      "(9/17) https://seatgeek.com/heat-at-76ers-tickets/2-27-2023-philadelphia-pennsylvania-wells-fargo-center/nba/5775991\n",
      "(10/17) https://seatgeek.com/trail-blazers-at-76ers-tickets/3-10-2023-philadelphia-pennsylvania-wells-fargo-center/nba/5775993\n",
      "(11/17) https://seatgeek.com/wizards-at-76ers-tickets/3-12-2023-philadelphia-pennsylvania-wells-fargo-center/nba/5775995\n",
      "(12/17) https://seatgeek.com/bulls-at-76ers-tickets/3-20-2023-philadelphia-pennsylvania-wells-fargo-center/nba/5775997\n",
      "(13/17) https://seatgeek.com/mavericks-at-76ers-tickets/3-29-2023-philadelphia-pennsylvania-wells-fargo-center/nba/5775999\n",
      "(14/17) https://seatgeek.com/raptors-at-76ers-tickets/3-31-2023-philadelphia-pennsylvania-wells-fargo-center/nba/5776001\n",
      "(15/17) https://seatgeek.com/celtics-at-76ers-tickets/4-4-2023-philadelphia-pennsylvania-wells-fargo-center/nba/5776003\n",
      "(16/17) https://seatgeek.com/heat-at-76ers-tickets/4-6-2023-philadelphia-pennsylvania-wells-fargo-center/nba/5776005\n",
      "game=Brooklyn Nets data-size=245\n",
      "game=Denver Nuggets data-size=245\n",
      "game=Orlando Magic data-size=245\n",
      "game=Orlando Magic(1) data-size=245\n",
      "game=New York Knicks data-size=245\n",
      "game=Houston Rockets data-size=245\n",
      "game=Cleveland Cavaliers data-size=245\n",
      "game=Memphis Grizzlies data-size=245\n",
      "game=Boston Celtics data-size=245\n",
      "game=Miami Heat data-size=245\n",
      "game=Portland Trail Blazers data-size=245\n",
      "game=Washington Wizards data-size=245\n",
      "game=Chicago Bulls data-size=245\n",
      "game=Dallas Mavericks data-size=245\n",
      "game=Toronto Raptors data-size=245\n",
      "game=Boston Celtics(1) data-size=245\n",
      "game=Miami Heat(1) data-size=245\n",
      "Applied schemas successfully!\n"
     ]
    }
   ],
   "source": [
    "dfs = data_collection.etl()"
   ]
  },
  {
   "cell_type": "code",
   "execution_count": 3,
   "metadata": {},
   "outputs": [
    {
     "data": {
      "text/plain": [
       "array(['Club Box 13', 'Club Box 14', 'Club Box 2', 'Club Box 24',\n",
       "       'Section 101', 'Section 102', 'Section 103', 'Section 104',\n",
       "       'Section 105', 'Section 106', 'Section 107', 'Section 108',\n",
       "       'Section 109', 'Section 110', 'Section 111', 'Section 112',\n",
       "       'Section 113', 'Section 114', 'Section 115', 'Section 116',\n",
       "       'Section 118', 'Section 119', 'Section 120', 'Section 122',\n",
       "       'Section 123', 'Section 124', 'Section 203', 'Section 204',\n",
       "       'Section 205 A', 'Section 206', 'Section 207', 'Section 208',\n",
       "       'Section 209', 'Section 209 A', 'Section 210', 'Section 210 A',\n",
       "       'Section 211', 'Section 212', 'Section 214', 'Section 215',\n",
       "       'Section 220', 'Section 221', 'Section 221 A', 'Section 222',\n",
       "       'Section 222 A', 'Section 223', 'Section 224', 'Section R 106'],\n",
       "      dtype=object)"
      ]
     },
     "execution_count": 3,
     "metadata": {},
     "output_type": "execute_result"
    }
   ],
   "source": [
    "master_df = pd.concat(dfs)\n",
    "master_df['section'] = master_df['section'].apply(lambda x: x.split(',')[0])\n",
    "\n",
    "section_size = master_df.groupby('section').size()\n",
    "valid_sections = section_size.index.values[section_size > 3]\n",
    "valid_sections"
   ]
  },
  {
   "cell_type": "code",
   "execution_count": null,
   "metadata": {},
   "outputs": [],
   "source": []
  }
 ],
 "metadata": {
  "kernelspec": {
   "display_name": "venv",
   "language": "python",
   "name": "python3"
  },
  "language_info": {
   "codemirror_mode": {
    "name": "ipython",
    "version": 3
   },
   "file_extension": ".py",
   "mimetype": "text/x-python",
   "name": "python",
   "nbconvert_exporter": "python",
   "pygments_lexer": "ipython3",
   "version": "3.8.0"
  },
  "orig_nbformat": 4,
  "vscode": {
   "interpreter": {
    "hash": "52967123b572702f61316792845f8bc40b94f798da94169fbebccb7f1a3bf320"
   }
  }
 },
 "nbformat": 4,
 "nbformat_minor": 2
}
